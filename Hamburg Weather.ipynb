{
 "cells": [
  {
   "cell_type": "code",
   "execution_count": 9,
   "id": "a7e3e91a",
   "metadata": {},
   "outputs": [
    {
     "name": "stdout",
     "output_type": "stream",
     "text": [
      "ugurlu neticedei qaqa\n",
      "{\n",
      "  \"coord\": {\n",
      "    \"lon\": 9.993,\n",
      "    \"lat\": 53.5507\n",
      "  },\n",
      "  \"weather\": [\n",
      "    {\n",
      "      \"id\": 800,\n",
      "      \"main\": \"Clear\",\n",
      "      \"description\": \"clear sky\",\n",
      "      \"icon\": \"01d\"\n",
      "    }\n",
      "  ],\n",
      "  \"base\": \"stations\",\n",
      "  \"main\": {\n",
      "    \"temp\": 300.5,\n",
      "    \"feels_like\": 300.91,\n",
      "    \"temp_min\": 299.76,\n",
      "    \"temp_max\": 302.07,\n",
      "    \"pressure\": 1016,\n",
      "    \"humidity\": 50,\n",
      "    \"sea_level\": 1016,\n",
      "    \"grnd_level\": 1014\n",
      "  },\n",
      "  \"visibility\": 10000,\n",
      "  \"wind\": {\n",
      "    \"speed\": 4.12,\n",
      "    \"deg\": 290\n",
      "  },\n",
      "  \"clouds\": {\n",
      "    \"all\": 0\n",
      "  },\n",
      "  \"dt\": 1722352974,\n",
      "  \"sys\": {\n",
      "    \"type\": 1,\n",
      "    \"id\": 1263,\n",
      "    \"country\": \"DE\",\n",
      "    \"sunrise\": 1722310354,\n",
      "    \"sunset\": 1722367209\n",
      "  },\n",
      "  \"timezone\": 7200,\n",
      "  \"id\": 2864067,\n",
      "  \"name\": \"Neustadt\",\n",
      "  \"cod\": 200\n",
      "}\n",
      "\\cari hava melumati itv (Neustadt,2024-07-30 17:26:10)\n",
      "tempurator: 27.4°C\n",
      "hiss olunan: 27.8°C\n",
      "Rutubet: 50%\n",
      "kuleyin sureti:4.12 m/s\n",
      "hava seraiti: clear sky\n"
     ]
    }
   ],
   "source": [
    "import requests\n",
    "from datetime import datetime\n",
    "import json\n",
    "API_KEY = \"bca72ec67bc618d818b195434b291572\"\n",
    "LAT = 53.551086\n",
    "LON = 9.993682\n",
    "url = f'https://api.openweathermap.org/data/2.5/weather?lat={LAT}&lon={LON}&appid={API_KEY}'\n",
    "response= requests.get(url)\n",
    "if response.status_code == 200:\n",
    "    data = response.json()\n",
    "    print(\"ugurlu neticedei qaqa\")\n",
    "    print(json.dumps(data,indent=2))\n",
    "    \n",
    "    temp = data['main']['temp']\n",
    "    feels_like = data['main']['feels_like']\n",
    "    humidity = data['main']['humidity']\n",
    "    wind_speed = data['wind']['speed']\n",
    "    weather_desc = data['weather'][0]['description']\n",
    "    city_name = data['name']\n",
    "    print(f\"\\cari hava melumati itv ({city_name},{datetime.now().strftime('%Y-%m-%d %H:%M:%S')})\")\n",
    "    print(f\"tempurator: {temp-273.15:.1f}°C\")\n",
    "    print(f\"hiss olunan: {feels_like-273.15:.1f}°C\")\n",
    "    print(f\"Rutubet: {humidity}%\")\n",
    "    print(f\"kuleyin sureti:{wind_speed} m/s\")\n",
    "    print(f\"hava seraiti: {weather_desc}\")\n",
    "else:\n",
    "    print(f\"sorgunuz gebul olundu. xeta codu: {response.status_code}\")\n",
    "    print(f\"xeta mesaji: {response.text}\")"
   ]
  },
  {
   "cell_type": "code",
   "execution_count": null,
   "id": "971366eb",
   "metadata": {},
   "outputs": [],
   "source": []
  },
  {
   "cell_type": "code",
   "execution_count": null,
   "id": "1e2c4ecc",
   "metadata": {},
   "outputs": [],
   "source": []
  }
 ],
 "metadata": {
  "kernelspec": {
   "display_name": "Python 3 (ipykernel)",
   "language": "python",
   "name": "python3"
  },
  "language_info": {
   "codemirror_mode": {
    "name": "ipython",
    "version": 3
   },
   "file_extension": ".py",
   "mimetype": "text/x-python",
   "name": "python",
   "nbconvert_exporter": "python",
   "pygments_lexer": "ipython3",
   "version": "3.11.5"
  }
 },
 "nbformat": 4,
 "nbformat_minor": 5
}
